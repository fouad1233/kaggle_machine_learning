{
 "cells": [
  {
   "cell_type": "markdown",
   "id": "fba17d24",
   "metadata": {
    "papermill": {
     "duration": 0.006917,
     "end_time": "2024-09-04T19:24:03.564002",
     "exception": false,
     "start_time": "2024-09-04T19:24:03.557085",
     "status": "completed"
    },
    "tags": []
   },
   "source": [
    "**This notebook is an exercise in the [Intro to Deep Learning](https://www.kaggle.com/learn/intro-to-deep-learning) course.  You can reference the tutorial at [this link](https://www.kaggle.com/ryanholbrook/dropout-and-batch-normalization).**\n",
    "\n",
    "---\n"
   ]
  },
  {
   "cell_type": "markdown",
   "id": "652674c8",
   "metadata": {
    "papermill": {
     "duration": 0.006407,
     "end_time": "2024-09-04T19:24:03.576900",
     "exception": false,
     "start_time": "2024-09-04T19:24:03.570493",
     "status": "completed"
    },
    "tags": []
   },
   "source": [
    "# Introduction #\n",
    "\n",
    "In this exercise, you'll add dropout to the *Spotify* model from Exercise 4 and see how batch normalization can let you successfully train models on difficult datasets.\n",
    "\n",
    "Run the next cell to get started!"
   ]
  },
  {
   "cell_type": "code",
   "execution_count": 1,
   "id": "e2279405",
   "metadata": {
    "execution": {
     "iopub.execute_input": "2024-09-04T19:24:03.592896Z",
     "iopub.status.busy": "2024-09-04T19:24:03.592056Z",
     "iopub.status.idle": "2024-09-04T19:24:04.413218Z",
     "shell.execute_reply": "2024-09-04T19:24:04.412414Z"
    },
    "papermill": {
     "duration": 0.831261,
     "end_time": "2024-09-04T19:24:04.415508",
     "exception": false,
     "start_time": "2024-09-04T19:24:03.584247",
     "status": "completed"
    },
    "tags": []
   },
   "outputs": [
    {
     "name": "stderr",
     "output_type": "stream",
     "text": [
      "/tmp/ipykernel_26/195640296.py:3: MatplotlibDeprecationWarning: The seaborn styles shipped by Matplotlib are deprecated since 3.6, as they no longer correspond to the styles shipped by seaborn. However, they will remain available as 'seaborn-v0_8-<style>'. Alternatively, directly use the seaborn API instead.\n",
      "  plt.style.use('seaborn-whitegrid')\n"
     ]
    }
   ],
   "source": [
    "# Setup plotting\n",
    "import matplotlib.pyplot as plt\n",
    "plt.style.use('seaborn-whitegrid')\n",
    "# Set Matplotlib defaults\n",
    "plt.rc('figure', autolayout=True)\n",
    "plt.rc('axes', labelweight='bold', labelsize='large',\n",
    "       titleweight='bold', titlesize=18, titlepad=10)\n",
    "plt.rc('animation', html='html5')\n",
    "\n",
    "# Setup feedback system\n",
    "from learntools.core import binder\n",
    "binder.bind(globals())\n",
    "from learntools.deep_learning_intro.ex5 import *"
   ]
  },
  {
   "cell_type": "markdown",
   "id": "79425d5e",
   "metadata": {
    "papermill": {
     "duration": 0.006392,
     "end_time": "2024-09-04T19:24:04.428619",
     "exception": false,
     "start_time": "2024-09-04T19:24:04.422227",
     "status": "completed"
    },
    "tags": []
   },
   "source": [
    "First load the *Spotify* dataset."
   ]
  },
  {
   "cell_type": "code",
   "execution_count": 2,
   "id": "c28246b1",
   "metadata": {
    "execution": {
     "iopub.execute_input": "2024-09-04T19:24:04.443063Z",
     "iopub.status.busy": "2024-09-04T19:24:04.442266Z",
     "iopub.status.idle": "2024-09-04T19:24:18.581948Z",
     "shell.execute_reply": "2024-09-04T19:24:18.580969Z"
    },
    "papermill": {
     "duration": 14.149308,
     "end_time": "2024-09-04T19:24:18.584210",
     "exception": false,
     "start_time": "2024-09-04T19:24:04.434902",
     "status": "completed"
    },
    "tags": []
   },
   "outputs": [
    {
     "name": "stderr",
     "output_type": "stream",
     "text": [
      "2024-09-04 19:24:07.226999: E external/local_xla/xla/stream_executor/cuda/cuda_dnn.cc:9261] Unable to register cuDNN factory: Attempting to register factory for plugin cuDNN when one has already been registered\n",
      "2024-09-04 19:24:07.227121: E external/local_xla/xla/stream_executor/cuda/cuda_fft.cc:607] Unable to register cuFFT factory: Attempting to register factory for plugin cuFFT when one has already been registered\n",
      "2024-09-04 19:24:07.350930: E external/local_xla/xla/stream_executor/cuda/cuda_blas.cc:1515] Unable to register cuBLAS factory: Attempting to register factory for plugin cuBLAS when one has already been registered\n"
     ]
    },
    {
     "name": "stdout",
     "output_type": "stream",
     "text": [
      "Input shape: [18]\n"
     ]
    }
   ],
   "source": [
    "import pandas as pd\n",
    "from sklearn.preprocessing import StandardScaler, OneHotEncoder\n",
    "from sklearn.compose import make_column_transformer\n",
    "from sklearn.model_selection import GroupShuffleSplit\n",
    "\n",
    "from tensorflow import keras\n",
    "from tensorflow.keras import layers\n",
    "from tensorflow.keras import callbacks\n",
    "\n",
    "spotify = pd.read_csv('../input/dl-course-data/spotify.csv')\n",
    "\n",
    "X = spotify.copy().dropna()\n",
    "y = X.pop('track_popularity')\n",
    "artists = X['track_artist']\n",
    "\n",
    "features_num = ['danceability', 'energy', 'key', 'loudness', 'mode',\n",
    "                'speechiness', 'acousticness', 'instrumentalness',\n",
    "                'liveness', 'valence', 'tempo', 'duration_ms']\n",
    "features_cat = ['playlist_genre']\n",
    "\n",
    "preprocessor = make_column_transformer(\n",
    "    (StandardScaler(), features_num),\n",
    "    (OneHotEncoder(), features_cat),\n",
    ")\n",
    "\n",
    "def group_split(X, y, group, train_size=0.75):\n",
    "    splitter = GroupShuffleSplit(train_size=train_size)\n",
    "    train, test = next(splitter.split(X, y, groups=group))\n",
    "    return (X.iloc[train], X.iloc[test], y.iloc[train], y.iloc[test])\n",
    "\n",
    "X_train, X_valid, y_train, y_valid = group_split(X, y, artists)\n",
    "\n",
    "X_train = preprocessor.fit_transform(X_train)\n",
    "X_valid = preprocessor.transform(X_valid)\n",
    "y_train = y_train / 100\n",
    "y_valid = y_valid / 100\n",
    "\n",
    "input_shape = [X_train.shape[1]]\n",
    "print(\"Input shape: {}\".format(input_shape))"
   ]
  },
  {
   "cell_type": "markdown",
   "id": "c66cf7d9",
   "metadata": {
    "papermill": {
     "duration": 0.011646,
     "end_time": "2024-09-04T19:24:18.603063",
     "exception": false,
     "start_time": "2024-09-04T19:24:18.591417",
     "status": "completed"
    },
    "tags": []
   },
   "source": [
    "# 1) Add Dropout to Spotify Model\n",
    "\n",
    "Here is the last model from Exercise 4. Add two dropout layers, one after the `Dense` layer with 128 units, and one after the `Dense` layer with 64 units. Set the dropout rate on both to `0.3`."
   ]
  },
  {
   "cell_type": "code",
   "execution_count": 3,
   "id": "eefc803a",
   "metadata": {
    "execution": {
     "iopub.execute_input": "2024-09-04T19:24:18.620324Z",
     "iopub.status.busy": "2024-09-04T19:24:18.619433Z",
     "iopub.status.idle": "2024-09-04T19:24:19.391979Z",
     "shell.execute_reply": "2024-09-04T19:24:19.391051Z"
    },
    "lines_to_next_cell": 2,
    "papermill": {
     "duration": 0.78393,
     "end_time": "2024-09-04T19:24:19.393989",
     "exception": false,
     "start_time": "2024-09-04T19:24:18.610059",
     "status": "completed"
    },
    "tags": []
   },
   "outputs": [
    {
     "data": {
      "application/javascript": [
       "parent.postMessage({\"jupyterEvent\": \"custom.exercise_interaction\", \"data\": {\"outcomeType\": 1, \"valueTowardsCompletion\": 0.25, \"interactionType\": 1, \"questionType\": 2, \"questionId\": \"1_Q1\", \"learnToolsVersion\": \"0.3.4\", \"failureMessage\": \"\", \"exceptionClass\": \"\", \"trace\": \"\"}}, \"*\")"
      ],
      "text/plain": [
       "<IPython.core.display.Javascript object>"
      ]
     },
     "metadata": {},
     "output_type": "display_data"
    },
    {
     "data": {
      "text/markdown": [
       "<span style=\"color:#33cc33\">Correct</span>"
      ],
      "text/plain": [
       "Correct"
      ]
     },
     "metadata": {},
     "output_type": "display_data"
    }
   ],
   "source": [
    "# YOUR CODE HERE: Add two 30% dropout layers, one after 128 and one after 64\n",
    "model = keras.Sequential([\n",
    "    layers.Dense(128, activation='relu', input_shape=input_shape),\n",
    "    layers.Dropout(0.3),\n",
    "    layers.Dense(64, activation='relu'),\n",
    "    layers.Dropout(0.3),\n",
    "    layers.Dense(1)\n",
    "])\n",
    "\n",
    "# Check your answer\n",
    "q_1.check()"
   ]
  },
  {
   "cell_type": "code",
   "execution_count": 4,
   "id": "80b0482c",
   "metadata": {
    "execution": {
     "iopub.execute_input": "2024-09-04T19:24:19.409005Z",
     "iopub.status.busy": "2024-09-04T19:24:19.408675Z",
     "iopub.status.idle": "2024-09-04T19:24:19.412524Z",
     "shell.execute_reply": "2024-09-04T19:24:19.411648Z"
    },
    "papermill": {
     "duration": 0.013552,
     "end_time": "2024-09-04T19:24:19.414436",
     "exception": false,
     "start_time": "2024-09-04T19:24:19.400884",
     "status": "completed"
    },
    "tags": []
   },
   "outputs": [],
   "source": [
    "# Lines below will give you a hint or solution code\n",
    "#q_1.hint()\n",
    "#q_1.solution()"
   ]
  },
  {
   "cell_type": "markdown",
   "id": "a74c6b86",
   "metadata": {
    "papermill": {
     "duration": 0.006536,
     "end_time": "2024-09-04T19:24:19.427796",
     "exception": false,
     "start_time": "2024-09-04T19:24:19.421260",
     "status": "completed"
    },
    "tags": []
   },
   "source": [
    "Now run this next cell to train the model see the effect of adding dropout."
   ]
  },
  {
   "cell_type": "code",
   "execution_count": 5,
   "id": "6b49b61f",
   "metadata": {
    "execution": {
     "iopub.execute_input": "2024-09-04T19:24:19.443530Z",
     "iopub.status.busy": "2024-09-04T19:24:19.443189Z",
     "iopub.status.idle": "2024-09-04T19:24:31.502488Z",
     "shell.execute_reply": "2024-09-04T19:24:31.501489Z"
    },
    "papermill": {
     "duration": 12.070258,
     "end_time": "2024-09-04T19:24:31.504749",
     "exception": false,
     "start_time": "2024-09-04T19:24:19.434491",
     "status": "completed"
    },
    "tags": []
   },
   "outputs": [
    {
     "name": "stderr",
     "output_type": "stream",
     "text": [
      "WARNING: All log messages before absl::InitializeLog() is called are written to STDERR\n",
      "I0000 00:00:1725477862.050681      69 device_compiler.h:186] Compiled cluster using XLA!  This line is logged at most once for the lifetime of the process.\n"
     ]
    },
    {
     "name": "stdout",
     "output_type": "stream",
     "text": [
      "Minimum Validation Loss: 0.1915\n"
     ]
    },
    {
     "data": {
      "image/png": "[encoded data removed]",
      "text/plain": [
       "<Figure size 640x480 with 1 Axes>"
      ]
     },
     "metadata": {},
     "output_type": "display_data"
    }
   ],
   "source": [
    "model.compile(\n",
    "    optimizer='adam',\n",
    "    loss='mae',\n",
    ")\n",
    "history = model.fit(\n",
    "    X_train, y_train,\n",
    "    validation_data=(X_valid, y_valid),\n",
    "    batch_size=512,\n",
    "    epochs=50,\n",
    "    verbose=0,\n",
    ")\n",
    "history_df = pd.DataFrame(history.history)\n",
    "history_df.loc[:, ['loss', 'val_loss']].plot()\n",
    "print(\"Minimum Validation Loss: {:0.4f}\".format(history_df['val_loss'].min()))"
   ]
  },
  {
   "cell_type": "markdown",
   "id": "d9866515",
   "metadata": {
    "papermill": {
     "duration": 0.007064,
     "end_time": "2024-09-04T19:24:31.519326",
     "exception": false,
     "start_time": "2024-09-04T19:24:31.512262",
     "status": "completed"
    },
    "tags": []
   },
   "source": [
    "# 2) Evaluate Dropout\n",
    "\n",
    "Recall from Exercise 4 that this model tended to overfit the data around epoch 5. Did adding dropout seem to help prevent overfitting this time?"
   ]
  },
  {
   "cell_type": "code",
   "execution_count": 6,
   "id": "cdaaaa6f",
   "metadata": {
    "execution": {
     "iopub.execute_input": "2024-09-04T19:24:31.536038Z",
     "iopub.status.busy": "2024-09-04T19:24:31.535219Z",
     "iopub.status.idle": "2024-09-04T19:24:31.542706Z",
     "shell.execute_reply": "2024-09-04T19:24:31.541832Z"
    },
    "papermill": {
     "duration": 0.017994,
     "end_time": "2024-09-04T19:24:31.544744",
     "exception": false,
     "start_time": "2024-09-04T19:24:31.526750",
     "status": "completed"
    },
    "tags": []
   },
   "outputs": [
    {
     "data": {
      "application/javascript": [
       "parent.postMessage({\"jupyterEvent\": \"custom.exercise_interaction\", \"data\": {\"outcomeType\": 1, \"valueTowardsCompletion\": 0.25, \"interactionType\": 1, \"questionType\": 4, \"questionId\": \"2_Q2\", \"learnToolsVersion\": \"0.3.4\", \"failureMessage\": \"\", \"exceptionClass\": \"\", \"trace\": \"\"}}, \"*\")"
      ],
      "text/plain": [
       "<IPython.core.display.Javascript object>"
      ]
     },
     "metadata": {},
     "output_type": "display_data"
    },
    {
     "data": {
      "text/markdown": [
       "<span style=\"color:#33cc33\">Correct:</span> \n",
       "\n",
       "\n",
       "From the learning curves, you can see that the validation loss remains near a constant minimum even though the training loss continues to decrease. So we can see that adding dropout did prevent overfitting this time. Moreover, by making it harder for the network to fit spurious patterns, dropout may have encouraged the network to seek out more of the true patterns, possibly improving the validation loss some as well).\n"
      ],
      "text/plain": [
       "Correct: \n",
       "\n",
       "\n",
       "From the learning curves, you can see that the validation loss remains near a constant minimum even though the training loss continues to decrease. So we can see that adding dropout did prevent overfitting this time. Moreover, by making it harder for the network to fit spurious patterns, dropout may have encouraged the network to seek out more of the true patterns, possibly improving the validation loss some as well)."
      ]
     },
     "metadata": {},
     "output_type": "display_data"
    }
   ],
   "source": [
    "# View the solution (Run this cell to receive credit!)\n",
    "q_2.check()"
   ]
  },
  {
   "cell_type": "markdown",
   "id": "26283d50",
   "metadata": {
    "papermill": {
     "duration": 0.007493,
     "end_time": "2024-09-04T19:24:31.559870",
     "exception": false,
     "start_time": "2024-09-04T19:24:31.552377",
     "status": "completed"
    },
    "tags": []
   },
   "source": [
    "Now, we'll switch topics to explore how batch normalization can fix problems in training.\n",
    "\n",
    "Load the *Concrete* dataset. We won't do any standardization this time. This will make the effect of batch normalization much more apparent."
   ]
  },
  {
   "cell_type": "code",
   "execution_count": 7,
   "id": "24226999",
   "metadata": {
    "execution": {
     "iopub.execute_input": "2024-09-04T19:24:31.577385Z",
     "iopub.status.busy": "2024-09-04T19:24:31.576537Z",
     "iopub.status.idle": "2024-09-04T19:24:31.596732Z",
     "shell.execute_reply": "2024-09-04T19:24:31.595970Z"
    },
    "papermill": {
     "duration": 0.031158,
     "end_time": "2024-09-04T19:24:31.598826",
     "exception": false,
     "start_time": "2024-09-04T19:24:31.567668",
     "status": "completed"
    },
    "tags": []
   },
   "outputs": [],
   "source": [
    "import pandas as pd\n",
    "\n",
    "concrete = pd.read_csv('../input/dl-course-data/concrete.csv')\n",
    "df = concrete.copy()\n",
    "\n",
    "df_train = df.sample(frac=0.7, random_state=0)\n",
    "df_valid = df.drop(df_train.index)\n",
    "\n",
    "X_train = df_train.drop('CompressiveStrength', axis=1)\n",
    "X_valid = df_valid.drop('CompressiveStrength', axis=1)\n",
    "y_train = df_train['CompressiveStrength']\n",
    "y_valid = df_valid['CompressiveStrength']\n",
    "\n",
    "input_shape = [X_train.shape[1]]"
   ]
  },
  {
   "cell_type": "markdown",
   "id": "2fb489de",
   "metadata": {
    "papermill": {
     "duration": 0.007505,
     "end_time": "2024-09-04T19:24:31.614214",
     "exception": false,
     "start_time": "2024-09-04T19:24:31.606709",
     "status": "completed"
    },
    "tags": []
   },
   "source": [
    "Run the following cell to train the network on the unstandardized *Concrete* data."
   ]
  },
  {
   "cell_type": "code",
   "execution_count": 8,
   "id": "577d6af8",
   "metadata": {
    "execution": {
     "iopub.execute_input": "2024-09-04T19:24:31.631176Z",
     "iopub.status.busy": "2024-09-04T19:24:31.630825Z",
     "iopub.status.idle": "2024-09-04T19:24:39.465354Z",
     "shell.execute_reply": "2024-09-04T19:24:39.464421Z"
    },
    "papermill": {
     "duration": 7.845556,
     "end_time": "2024-09-04T19:24:39.467481",
     "exception": false,
     "start_time": "2024-09-04T19:24:31.621925",
     "status": "completed"
    },
    "tags": []
   },
   "outputs": [
    {
     "name": "stdout",
     "output_type": "stream",
     "text": [
      "Minimum Validation Loss: nan\n"
     ]
    },
    {
     "data": {
      "image/png": "[encoded data removed]",
      "text/plain": [
       "<Figure size 640x480 with 1 Axes>"
      ]
     },
     "metadata": {},
     "output_type": "display_data"
    }
   ],
   "source": [
    "model = keras.Sequential([\n",
    "    layers.Dense(512, activation='relu', input_shape=input_shape),\n",
    "    layers.Dense(512, activation='relu'),    \n",
    "    layers.Dense(512, activation='relu'),\n",
    "    layers.Dense(1),\n",
    "])\n",
    "model.compile(\n",
    "    optimizer='sgd', # SGD is more sensitive to differences of scale\n",
    "    loss='mae',\n",
    "    metrics=['mae'],\n",
    ")\n",
    "history = model.fit(\n",
    "    X_train, y_train,\n",
    "    validation_data=(X_valid, y_valid),\n",
    "    batch_size=64,\n",
    "    epochs=100,\n",
    "    verbose=0,\n",
    ")\n",
    "\n",
    "history_df = pd.DataFrame(history.history)\n",
    "history_df.loc[0:, ['loss', 'val_loss']].plot()\n",
    "print((\"Minimum Validation Loss: {:0.4f}\").format(history_df['val_loss'].min()))"
   ]
  },
  {
   "cell_type": "markdown",
   "id": "9b4e4e00",
   "metadata": {
    "papermill": {
     "duration": 0.007754,
     "end_time": "2024-09-04T19:24:39.483614",
     "exception": false,
     "start_time": "2024-09-04T19:24:39.475860",
     "status": "completed"
    },
    "tags": []
   },
   "source": [
    "Did you end up with a blank graph? Trying to train this network on this dataset will usually fail. Even when it does converge (due to a lucky weight initialization), it tends to converge to a very large number.\n",
    "\n",
    "# 3) Add Batch Normalization Layers\n",
    "\n",
    "Batch normalization can help correct problems like this.\n",
    "\n",
    "Add four `BatchNormalization` layers, one before each of the dense layers. (Remember to move the `input_shape` argument to the new first layer.)"
   ]
  },
  {
   "cell_type": "code",
   "execution_count": 9,
   "id": "df579921",
   "metadata": {
    "execution": {
     "iopub.execute_input": "2024-09-04T19:24:39.501327Z",
     "iopub.status.busy": "2024-09-04T19:24:39.500993Z",
     "iopub.status.idle": "2024-09-04T19:24:39.526743Z",
     "shell.execute_reply": "2024-09-04T19:24:39.525814Z"
    },
    "lines_to_next_cell": 0,
    "papermill": {
     "duration": 0.03726,
     "end_time": "2024-09-04T19:24:39.528908",
     "exception": false,
     "start_time": "2024-09-04T19:24:39.491648",
     "status": "completed"
    },
    "tags": []
   },
   "outputs": [
    {
     "data": {
      "application/javascript": [
       "parent.postMessage({\"jupyterEvent\": \"custom.exercise_interaction\", \"data\": {\"outcomeType\": 1, \"valueTowardsCompletion\": 0.25, \"interactionType\": 1, \"questionType\": 2, \"questionId\": \"3_Q3\", \"learnToolsVersion\": \"0.3.4\", \"failureMessage\": \"\", \"exceptionClass\": \"\", \"trace\": \"\"}}, \"*\")"
      ],
      "text/plain": [
       "<IPython.core.display.Javascript object>"
      ]
     },
     "metadata": {},
     "output_type": "display_data"
    },
    {
     "data": {
      "text/markdown": [
       "<span style=\"color:#33cc33\">Correct</span>"
      ],
      "text/plain": [
       "Correct"
      ]
     },
     "metadata": {},
     "output_type": "display_data"
    }
   ],
   "source": [
    "# YOUR CODE HERE: Add a BatchNormalization layer before each Dense layer\n",
    "model = keras.Sequential([\n",
    "    layers.BatchNormalization(),\n",
    "    layers.Dense(512, activation='relu', input_shape=input_shape),\n",
    "    layers.BatchNormalization(),\n",
    "    layers.Dense(512, activation='relu'),\n",
    "    layers.BatchNormalization(),\n",
    "    layers.Dense(512, activation='relu'),\n",
    "    layers.BatchNormalization(),\n",
    "    layers.Dense(1),\n",
    "])\n",
    "\n",
    "# Check your answer\n",
    "q_3.check()"
   ]
  },
  {
   "cell_type": "code",
   "execution_count": 10,
   "id": "7d1f66bd",
   "metadata": {
    "execution": {
     "iopub.execute_input": "2024-09-04T19:24:39.547075Z",
     "iopub.status.busy": "2024-09-04T19:24:39.546758Z",
     "iopub.status.idle": "2024-09-04T19:24:39.550721Z",
     "shell.execute_reply": "2024-09-04T19:24:39.549825Z"
    },
    "papermill": {
     "duration": 0.015234,
     "end_time": "2024-09-04T19:24:39.552640",
     "exception": false,
     "start_time": "2024-09-04T19:24:39.537406",
     "status": "completed"
    },
    "tags": []
   },
   "outputs": [],
   "source": [
    "# Lines below will give you a hint or solution code\n",
    "#q_3.hint()\n",
    "#q_3.solution()"
   ]
  },
  {
   "cell_type": "markdown",
   "id": "331d9571",
   "metadata": {
    "papermill": {
     "duration": 0.008046,
     "end_time": "2024-09-04T19:24:39.569010",
     "exception": false,
     "start_time": "2024-09-04T19:24:39.560964",
     "status": "completed"
    },
    "tags": []
   },
   "source": [
    "Run the next cell to see if batch normalization will let us train the model."
   ]
  },
  {
   "cell_type": "code",
   "execution_count": 11,
   "id": "c98f1fe6",
   "metadata": {
    "execution": {
     "iopub.execute_input": "2024-09-04T19:24:39.587522Z",
     "iopub.status.busy": "2024-09-04T19:24:39.586692Z",
     "iopub.status.idle": "2024-09-04T19:24:51.821601Z",
     "shell.execute_reply": "2024-09-04T19:24:51.820555Z"
    },
    "papermill": {
     "duration": 12.246505,
     "end_time": "2024-09-04T19:24:51.823720",
     "exception": false,
     "start_time": "2024-09-04T19:24:39.577215",
     "status": "completed"
    },
    "tags": []
   },
   "outputs": [
    {
     "name": "stdout",
     "output_type": "stream",
     "text": [
      "Minimum Validation Loss: 4.2058\n"
     ]
    },
    {
     "data": {
      "image/png": "[encoded data removed]",
      "text/plain": [
       "<Figure size 640x480 with 1 Axes>"
      ]
     },
     "metadata": {},
     "output_type": "display_data"
    }
   ],
   "source": [
    "model.compile(\n",
    "    optimizer='sgd',\n",
    "    loss='mae',\n",
    "    metrics=['mae'],\n",
    ")\n",
    "EPOCHS = 100\n",
    "history = model.fit(\n",
    "    X_train, y_train,\n",
    "    validation_data=(X_valid, y_valid),\n",
    "    batch_size=64,\n",
    "    epochs=EPOCHS,\n",
    "    verbose=0,\n",
    ")\n",
    "\n",
    "history_df = pd.DataFrame(history.history)\n",
    "history_df.loc[0:, ['loss', 'val_loss']].plot()\n",
    "print((\"Minimum Validation Loss: {:0.4f}\").format(history_df['val_loss'].min()))"
   ]
  },
  {
   "cell_type": "markdown",
   "id": "ea2f7fb6",
   "metadata": {
    "papermill": {
     "duration": 0.008885,
     "end_time": "2024-09-04T19:24:51.841877",
     "exception": false,
     "start_time": "2024-09-04T19:24:51.832992",
     "status": "completed"
    },
    "tags": []
   },
   "source": [
    "# 4) Evaluate Batch Normalization\n",
    "\n",
    "Did adding batch normalization help?"
   ]
  },
  {
   "cell_type": "code",
   "execution_count": 12,
   "id": "f041b67a",
   "metadata": {
    "execution": {
     "iopub.execute_input": "2024-09-04T19:24:51.862194Z",
     "iopub.status.busy": "2024-09-04T19:24:51.861297Z",
     "iopub.status.idle": "2024-09-04T19:24:51.869354Z",
     "shell.execute_reply": "2024-09-04T19:24:51.868460Z"
    },
    "lines_to_next_cell": 0,
    "papermill": {
     "duration": 0.020649,
     "end_time": "2024-09-04T19:24:51.871597",
     "exception": false,
     "start_time": "2024-09-04T19:24:51.850948",
     "status": "completed"
    },
    "tags": []
   },
   "outputs": [
    {
     "data": {
      "application/javascript": [
       "parent.postMessage({\"jupyterEvent\": \"custom.exercise_interaction\", \"data\": {\"outcomeType\": 1, \"valueTowardsCompletion\": 0.25, \"interactionType\": 1, \"questionType\": 4, \"questionId\": \"4_Q4\", \"learnToolsVersion\": \"0.3.4\", \"failureMessage\": \"\", \"exceptionClass\": \"\", \"trace\": \"\"}}, \"*\")"
      ],
      "text/plain": [
       "<IPython.core.display.Javascript object>"
      ]
     },
     "metadata": {},
     "output_type": "display_data"
    },
    {
     "data": {
      "text/markdown": [
       "<span style=\"color:#33cc33\">Correct:</span> \n",
       "\n",
       "\n",
       "You can see that adding batch normalization was a big improvement on the first attempt! By adaptively scaling the data as it passes through the network, batch normalization can let you train models on difficult datasets.\n"
      ],
      "text/plain": [
       "Correct: \n",
       "\n",
       "\n",
       "You can see that adding batch normalization was a big improvement on the first attempt! By adaptively scaling the data as it passes through the network, batch normalization can let you train models on difficult datasets."
      ]
     },
     "metadata": {},
     "output_type": "display_data"
    }
   ],
   "source": [
    "# View the solution (Run this cell to receive credit!)\n",
    "q_4.check()"
   ]
  },
  {
   "cell_type": "markdown",
   "id": "26d06bff",
   "metadata": {
    "papermill": {
     "duration": 0.010176,
     "end_time": "2024-09-04T19:24:51.891470",
     "exception": false,
     "start_time": "2024-09-04T19:24:51.881294",
     "status": "completed"
    },
    "tags": []
   },
   "source": [
    "# Keep Going #\n",
    "\n",
    "[**Create neural networks**](https://www.kaggle.com/ryanholbrook/binary-classification) for binary classification."
   ]
  },
  {
   "cell_type": "markdown",
   "id": "8f257e52",
   "metadata": {
    "papermill": {
     "duration": 0.009523,
     "end_time": "2024-09-04T19:24:51.910493",
     "exception": false,
     "start_time": "2024-09-04T19:24:51.900970",
     "status": "completed"
    },
    "tags": []
   },
   "source": [
    "---\n",
    "\n",
    "\n",
    "\n",
    "\n",
    "*Have questions or comments? Visit the [course discussion forum](https://www.kaggle.com/learn/intro-to-deep-learning/discussion) to chat with other learners.*"
   ]
  }
 ],
 "metadata": {
  "jupytext": {
   "cell_metadata_filter": "-all",
   "formats": "ipynb"
  },
  "kaggle": {
   "accelerator": "gpu",
   "dataSources": [
    {
     "datasetId": 829369,
     "sourceId": 1480608,
     "sourceType": "datasetVersion"
    }
   ],
   "dockerImageVersionId": 30648,
   "isGpuEnabled": true,
   "isInternetEnabled": false,
   "language": "python",
   "sourceType": "notebook"
  },
  "kernelspec": {
   "display_name": "Python 3",
   "language": "python",
   "name": "python3"
  },
  "language_info": {
   "codemirror_mode": {
    "name": "ipython",
    "version": 3
   },
   "file_extension": ".py",
   "mimetype": "text/x-python",
   "name": "python",
   "nbconvert_exporter": "python",
   "pygments_lexer": "ipython3",
   "version": "3.10.13"
  },
  "papermill": {
   "default_parameters": {},
   "duration": 54.232477,
   "end_time": "2024-09-04T19:24:54.956630",
   "environment_variables": {},
   "exception": null,
   "input_path": "__notebook__.ipynb",
   "output_path": "__notebook__.ipynb",
   "parameters": {},
   "start_time": "2024-09-04T19:24:00.724153",
   "version": "2.5.0"
  }
 },
 "nbformat": 4,
 "nbformat_minor": 5
}
